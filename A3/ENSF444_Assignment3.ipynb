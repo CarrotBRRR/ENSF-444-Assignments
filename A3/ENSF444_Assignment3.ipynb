{
  "cells": [
    {
      "cell_type": "markdown",
      "id": "CNDKREiQRJJX",
      "metadata": {
        "id": "CNDKREiQRJJX"
      },
      "source": [
        "<font size=\"+3\"><b>Assignment 3: Non-Linear Models and Validation Metrics</b></font>\n",
        "\n",
        "***\n",
        "* **Full Name** = Dominic Choi\n",
        "* **UCID** = 30109955\n",
        "***"
      ]
    },
    {
      "cell_type": "markdown",
      "id": "ce31b39a",
      "metadata": {
        "id": "ce31b39a"
      },
      "source": [
        "<font color='Blue'>\n",
        "In this assignment, you will need to write code that uses non-linear models to perform classification and regression tasks. You will also be asked to describe the process by which you came up with the code. More details can be found below. Please cite any websites or AI tools that you used to help you with this assignment.\n",
        "</font>\n",
        "\n",
        "|                **Question**                | **Point** |\n",
        "|:------------------------------------------:|:---------:|\n",
        "|           **Part 1: Regression**           |  **14.5** |\n",
        "|          Step 0: Import Libraries          |           |\n",
        "|             Step 1: Data Input             |    0.5    |\n",
        "|           Step 2: Data Processing          |     0     |\n",
        "| Step 3: Implement   Machine Learning Model |    0.5    |\n",
        "|           Step 4: Validate Model           |    0.5    |\n",
        "|         Step 5: Visualize   Results        |     3     |\n",
        "|                  Questions                 |     6     |\n",
        "|             Process Description            |     4     |\n",
        "|         **Part 2: Classification**         |  **17.5** |\n",
        "|             Step 1: Data Input             |     2     |\n",
        "|           Step 2: Data Processing          |    1.5    |\n",
        "| Step 3: Implement   Machine Learning Model |           |\n",
        "|            Step 4: Validate Mode           |           |\n",
        "|         Step 5: Visualize   Results        |     4     |\n",
        "|                  Questions                 |     6     |\n",
        "|             Process Description            |     4     |\n",
        "|   **Part 3: Observations/Interpretation**  |   **3**   |\n",
        "|           **Part 4: Reflection**           |   **2**   |\n",
        "|                  **Total**                 |   **37**  |\n",
        "|                                            |           |\n",
        "|                  **Bonus**                 |           |\n",
        "|         **Part 5: Bonus Question**         |   **3**   |"
      ]
    },
    {
      "cell_type": "markdown",
      "id": "cf275ca7",
      "metadata": {
        "id": "cf275ca7"
      },
      "source": [
        "### Import Libraries"
      ]
    },
    {
      "cell_type": "code",
      "execution_count": 7,
      "id": "2b67a661",
      "metadata": {
        "id": "2b67a661"
      },
      "outputs": [],
      "source": [
        "import numpy as np\n",
        "import pandas as pd\n",
        "import matplotlib.pyplot as plt\n",
        "import seaborn as sns"
      ]
    },
    {
      "cell_type": "markdown",
      "id": "5ee2d2c3",
      "metadata": {
        "id": "5ee2d2c3"
      },
      "source": [
        "# **Part 1: Regression (14.5 marks)**\n",
        "\n",
        "For this section, we will be continuing with the concrete example from yellowbrick. You will need to compare these results to the results from the previous assignment. Please use the results from the solution if you were unable to complete Assignment 2"
      ]
    },
    {
      "cell_type": "markdown",
      "id": "8219f163",
      "metadata": {
        "id": "8219f163"
      },
      "source": [
        "## **Step 1:** Data Input (0.5 marks)\n",
        "\n",
        "The data used for this task can be downloaded using the yellowbrick library:\n",
        "https://www.scikit-yb.org/en/latest/api/datasets/concrete.html\n",
        "\n",
        "Use the yellowbrick function `load_concrete()` to load the concrete dataset into the feature matrix `X` and target vector `y`."
      ]
    },
    {
      "cell_type": "code",
      "execution_count": 8,
      "id": "2af8bd32",
      "metadata": {
        "id": "2af8bd32"
      },
      "outputs": [],
      "source": [
        "# TO DO: Import concrete dataset from yellowbrick library\n",
        "from yellowbrick.datasets import load_concrete\n",
        "\n",
        "X, y = load_concrete()\n"
      ]
    },
    {
      "cell_type": "markdown",
      "id": "42fea4cc",
      "metadata": {
        "id": "42fea4cc"
      },
      "source": [
        "## **Step 2:** Data Processing (0 marks)\n",
        "\n",
        "Data processing was completed in the previous assignment. No need to repeat here.\n",
        "\n",
        "<font color='red'>\n",
        "This is just for your information and no action is required from you for this step.\n",
        "</font>"
      ]
    },
    {
      "cell_type": "markdown",
      "id": "2a245d00",
      "metadata": {
        "id": "2a245d00"
      },
      "source": [
        "## **Step 3:** Implement Machine Learning Model (0.5 marks)\n",
        "\n",
        "1. Import the Decision Tree, Random Forest and Gradient Boosting Machines regression models from sklearn\n",
        "2. Instantiate the three models with `max_depth = 5`. Are there any other parameters that you will need to set?\n",
        "3. Implement each machine learning model with `X` and `y`"
      ]
    },
    {
      "cell_type": "markdown",
      "id": "3f994e31",
      "metadata": {
        "id": "3f994e31"
      },
      "source": [
        "## **Step 4:** Validate Model (0.5 marks)\n",
        "\n",
        "Calculate the average training and validation accuracy using mean squared error with cross-validation. To do this, you will need to set `scoring='neg_mean_squared_error'` in your `cross_validate` function and negate the results (multiply by -1)"
      ]
    },
    {
      "cell_type": "markdown",
      "id": "5fc3f7a8",
      "metadata": {
        "id": "5fc3f7a8"
      },
      "source": [
        "## **Step 5:** Visualize Results (3 marks)\n",
        "\n",
        "1. Create a pandas DataFrame `results` with columns: Training accuracy and Validation accuracy, and index: DT, RF and GB\n",
        "2. Add the accuracy results to the `results` DataFrame\n",
        "3. Print `results`"
      ]
    },
    {
      "cell_type": "code",
      "execution_count": 9,
      "id": "fdc93a78",
      "metadata": {
        "id": "fdc93a78"
      },
      "outputs": [
        {
          "name": "stdout",
          "output_type": "stream",
          "text": [
            "                             DT          RF         GB\n",
            "Training accuracy     47.918561   31.698328   3.739270\n",
            "Validation accuracy  163.954214  156.656876  99.485455\n"
          ]
        }
      ],
      "source": [
        "# TO DO: ADD YOUR CODE HERE FOR STEPS 3-5\n",
        "# Note: for any random state parameters, you can use random_state = 0\n",
        "# HINT: USING A LOOP TO STORE THE DATA IN YOUR RESULTS DATAFRAME WILL BE MORE EFFICIENT\n",
        "\n",
        "from sklearn.tree import DecisionTreeRegressor\n",
        "from sklearn.ensemble import RandomForestRegressor, GradientBoostingRegressor\n",
        "from sklearn.model_selection import cross_validate\n",
        "\n",
        "# Step 3: Instantiate models\n",
        "max_depth = 5\n",
        "dt = DecisionTreeRegressor(max_depth=max_depth)\n",
        "rf = RandomForestRegressor(max_depth=max_depth)\n",
        "gb = GradientBoostingRegressor(max_depth=max_depth)\n",
        "\n",
        "# Step 4: Validate models\n",
        "models = {'DT': dt, 'RF': rf, 'GB': gb}\n",
        "results = {}\n",
        "\n",
        "for name, model in models.items():\n",
        "    cv_results = cross_validate(model, X, y, scoring='neg_mean_squared_error', cv=5, return_train_score=True)\n",
        "    train_score = -1 * cv_results['train_score'].mean()  # Negate to get positive MSE\n",
        "    test_score = -1 * cv_results['test_score'].mean()    # Negate to get positive MSE\n",
        "    results[name] = {'Training accuracy': train_score, 'Validation accuracy': test_score}\n",
        "\n",
        "# Step 5: Print results\n",
        "results_df = pd.DataFrame(results)\n",
        "print(results_df)\n"
      ]
    },
    {
      "cell_type": "markdown",
      "id": "31715a9d",
      "metadata": {
        "id": "31715a9d"
      },
      "source": [
        "Repeat the step above to print the R2 score instead of the mean-squared error. For this case, you can use `scoring='r2'`.\n",
        "\n",
        "<font color='red'>\n",
        "Due to the similarity of this to the main part of step 5, this part is 0.5 and the main part of step 5 is 2.5 of the total 3 points for this step.\n",
        "</font>"
      ]
    },
    {
      "cell_type": "code",
      "execution_count": 10,
      "id": "83539f47",
      "metadata": {
        "id": "83539f47"
      },
      "outputs": [
        {
          "name": "stdout",
          "output_type": "stream",
          "text": [
            "                           DT        RF        GB\n",
            "Training accuracy    0.822887  0.881443  0.986436\n",
            "Validation accuracy  0.178145  0.186269  0.485002\n"
          ]
        }
      ],
      "source": [
        "# TO DO: ADD YOUR CODE HERE\n",
        "# This would be similar to the main step, the main difference is the scoring.\n",
        "\n",
        "max_depth = 5\n",
        "dt = DecisionTreeRegressor(max_depth=max_depth)\n",
        "rf = RandomForestRegressor(max_depth=max_depth)\n",
        "gb = GradientBoostingRegressor(max_depth=max_depth)\n",
        "\n",
        "models = {'DT': dt, 'RF': rf, 'GB': gb}\n",
        "results = {}\n",
        "\n",
        "for name, model in models.items():\n",
        "    cv_results = cross_validate(model, X, y, scoring='r2', cv=5, return_train_score=True)\n",
        "    train_score = cv_results['train_score'].mean()\n",
        "    test_score = cv_results['test_score'].mean()\n",
        "    results[name] = {'Training accuracy': train_score, 'Validation accuracy': test_score}\n",
        "\n",
        "results_df = pd.DataFrame(results)\n",
        "print(results_df)\n"
      ]
    },
    {
      "cell_type": "markdown",
      "id": "a5257a98",
      "metadata": {
        "id": "a5257a98"
      },
      "source": [
        "## Questions (6 marks)\n",
        "1. How do these results compare to the results using a linear model in the previous assignment? Use values.\n",
        "1. Out of the models you tested, which model would you select for this dataset and why?\n",
        "1. If you wanted to increase the accuracy of the tree-based models, what would you do? Provide two suggestions."
      ]
    },
    {
      "cell_type": "markdown",
      "id": "2PRnpiFjVDzv",
      "metadata": {
        "id": "2PRnpiFjVDzv"
      },
      "source": [
        "<font color='Green'><b>YOUR ANSWERS HERE</b></font>\n",
        "1. Compared to Assignment 2, the MSE and R^2 score for training was much better, Gradient Boosting at 3 and 0.98 respectively. The other models in this assignment also preformed better in training, with DT at 47 MSE and 0.82 R^2, and RF at 31 MSE and 0.88 R^2. The Accuracy during validation, was not as good as the previous assignment. \n",
        "<br/>\n",
        "**Rankings for MSE Validation Score:**\n",
        "GB: 94 > Linear: 95 > RF: 160 > DT: 163\n",
        "<br/>\n",
        "**Rankings for R^2 Validation Score:**\n",
        "Linear: 0.61 > GB: 0.50 > DT: 0.18 > RF: 0.15\n",
        "\n",
        "2. For this dataset, I would choose either Linear or Gradient Boosting, becuase they had the best overall validation scores. Since both metrics (MSE and R^2) are about the same importance, and one is better for MSE, while the other is better for R^2, it is difficult to make a case why one would be better than the other.\n",
        "\n",
        "3. Adjusting max_depth, min_samples_split, min_samples_leaf, and max_features parameters can prevent over/under-fitting, thus improving model accuracy"
      ]
    },
    {
      "cell_type": "markdown",
      "id": "37b238f4",
      "metadata": {
        "id": "37b238f4"
      },
      "source": [
        "## Process Description (4 marks)\n",
        "Please describe the process you used to create your code. Cite any websites or generative AI tools used. You can use the following questions as guidance:\n",
        "1. Where did you source your code?\n",
        "1. In what order did you complete the steps?\n",
        "1. If you used generative AI, what prompts did you use? Did you need to modify the code at all? Why or why not?\n",
        "1. Did you have any challenges? If yes, what were they? If not, what helped you to be successful?"
      ]
    },
    {
      "cell_type": "markdown",
      "id": "93097bfe",
      "metadata": {
        "id": "93097bfe"
      },
      "source": [
        "<font color='Green'><b>DESCRIBE YOUR PROCESS HERE</b></font>\n",
        "1. Where did you source your code?\n",
        "    - Lecture Slides on Non-Linear Models\n",
        "    - Github Copilot\n",
        "\n",
        "2. In what order did you complete the steps?\n",
        "    - I followed the order provided in this notebook.\n",
        "\n",
        "3. If you used generative AI, what prompts did you use? Did you need to modify the code at all? Why or why not?\n",
        "    - GitHub Copilot uses the code already written to try and predict what is coming next. This is not always exactly what I need, so I have to modify it. This is because Copilot is useful for tasks that are very common; It is better to use its suggestions as a template. Human intervention is necessary for more specialized tasks.\n",
        "\n",
        "4. Did you have any challenges? If yes, what were they? If not, what helped you to be successful?\n",
        "    - Reading the numbers from the previous assignment was difficult. To fix this, I compiled the numbers into a .txt file to compare easier."
      ]
    },
    {
      "cell_type": "markdown",
      "id": "f7c6de86",
      "metadata": {
        "id": "f7c6de86"
      },
      "source": [
        "# **Part 2: Classification (17.5 marks)**\n",
        "\n",
        "You have been asked to develop code that can help the user classify different wine samples. Following the machine learning workflow described in class, write the relevant code in each of the steps below:"
      ]
    },
    {
      "cell_type": "markdown",
      "id": "5f9d33a8",
      "metadata": {
        "id": "5f9d33a8"
      },
      "source": [
        "## **Step 1:** Data Input (2 marks)\n",
        "\n",
        "The data used for this task can be downloaded from UCI: https://archive.ics.uci.edu/dataset/109/wine\n",
        "\n",
        "Use the pandas library to load the dataset. You must define the column headers if they are not included in the dataset\n",
        "\n",
        "You will need to split the dataset into feature matrix `X` and target vector `y`. Which column represents the target vector?\n",
        "\n",
        "Print the size and type of `X` and `y`"
      ]
    },
    {
      "cell_type": "code",
      "execution_count": 20,
      "id": "33583c67",
      "metadata": {
        "id": "33583c67"
      },
      "outputs": [
        {
          "name": "stdout",
          "output_type": "stream",
          "text": [
            "Size and type of X:\n",
            "(178, 13) <class 'pandas.core.frame.DataFrame'>\n",
            "\n",
            "Size and type of y:\n",
            "(178,) <class 'pandas.core.series.Series'>\n"
          ]
        }
      ],
      "source": [
        "# TO DO: Import wine dataset\n",
        "# Load the dataset\n",
        "url = \"https://archive.ics.uci.edu/ml/machine-learning-databases/wine/wine.data\"\n",
        "column_headers = ['Class', 'Alcohol', 'Malic acid', 'Ash', 'Alcalinity of ash', \n",
        "                  'Magnesium', 'Total phenols', 'Flavanoids', 'Nonflavanoid phenols', \n",
        "                  'Proanthocyanins', 'Color intensity', 'Hue', 'OD280/OD315 of diluted wines', 'Proline']\n",
        "wine_data = pd.read_csv(url, header=None, names=column_headers)\n",
        "\n",
        "# Split the dataset into feature matrix X and target vector y\n",
        "X = wine_data.drop(columns=['Class']) # Feature matrix\n",
        "y = wine_data['Class'] # Target vector\n",
        "\n",
        "# Print the size and type of X and y\n",
        "print(\"Size and type of X:\")\n",
        "print(X.shape, type(X))\n",
        "print(\"\\nSize and type of y:\")\n",
        "print(y.shape, type(y))\n"
      ]
    },
    {
      "cell_type": "markdown",
      "id": "156db208",
      "metadata": {
        "id": "156db208"
      },
      "source": [
        "## **Step 2:** Data Processing (1.5 marks)"
      ]
    },
    {
      "cell_type": "markdown",
      "id": "a28af110",
      "metadata": {
        "id": "a28af110"
      },
      "source": [
        "Print the first five rows of the dataset to inspect:"
      ]
    },
    {
      "cell_type": "code",
      "execution_count": 21,
      "id": "ea266921",
      "metadata": {
        "id": "ea266921"
      },
      "outputs": [
        {
          "name": "stdout",
          "output_type": "stream",
          "text": [
            "   Class  Alcohol  Malic acid   Ash  Alcalinity of ash  Magnesium  \\\n",
            "0      1    14.23        1.71  2.43               15.6        127   \n",
            "1      1    13.20        1.78  2.14               11.2        100   \n",
            "2      1    13.16        2.36  2.67               18.6        101   \n",
            "3      1    14.37        1.95  2.50               16.8        113   \n",
            "4      1    13.24        2.59  2.87               21.0        118   \n",
            "\n",
            "   Total phenols  Flavanoids  Nonflavanoid phenols  Proanthocyanins  \\\n",
            "0           2.80        3.06                  0.28             2.29   \n",
            "1           2.65        2.76                  0.26             1.28   \n",
            "2           2.80        3.24                  0.30             2.81   \n",
            "3           3.85        3.49                  0.24             2.18   \n",
            "4           2.80        2.69                  0.39             1.82   \n",
            "\n",
            "   Color intensity   Hue  OD280/OD315 of diluted wines  Proline  \n",
            "0             5.64  1.04                          3.92     1065  \n",
            "1             4.38  1.05                          3.40     1050  \n",
            "2             5.68  1.03                          3.17     1185  \n",
            "3             7.80  0.86                          3.45     1480  \n",
            "4             4.32  1.04                          2.93      735  \n"
          ]
        }
      ],
      "source": [
        "# TO DO: ADD YOUR CODE HERE\n",
        "print(wine_data.head())"
      ]
    },
    {
      "cell_type": "markdown",
      "id": "834fc8fe",
      "metadata": {
        "id": "834fc8fe"
      },
      "source": [
        "Check to see if there are any missing values in the dataset. If necessary, select an appropriate method to fill-in the missing values"
      ]
    },
    {
      "cell_type": "code",
      "execution_count": 22,
      "id": "97c6e9dc",
      "metadata": {
        "id": "97c6e9dc"
      },
      "outputs": [
        {
          "name": "stdout",
          "output_type": "stream",
          "text": [
            "Missing values:\n",
            "Class                           0\n",
            "Alcohol                         0\n",
            "Malic acid                      0\n",
            "Ash                             0\n",
            "Alcalinity of ash               0\n",
            "Magnesium                       0\n",
            "Total phenols                   0\n",
            "Flavanoids                      0\n",
            "Nonflavanoid phenols            0\n",
            "Proanthocyanins                 0\n",
            "Color intensity                 0\n",
            "Hue                             0\n",
            "OD280/OD315 of diluted wines    0\n",
            "Proline                         0\n",
            "dtype: int64\n",
            "\n",
            "No missing values found.\n"
          ]
        }
      ],
      "source": [
        "# TO DO: ADD YOUR CODE HERE\n",
        "# Check for missing values\n",
        "missing_values = wine_data.isnull().sum()\n",
        "print(\"Missing values:\")\n",
        "print(missing_values)\n",
        "\n",
        "# If there are missing values, fill them in with an appropriate method\n",
        "if missing_values.any():\n",
        "    wine_data.fillna(method='ffill', inplace=True)  # Using forward fill method to fill missing values\n",
        "    print(\"\\nMissing values filled in using forward fill method.\")\n",
        "else:\n",
        "    print(\"\\nNo missing values found.\")"
      ]
    },
    {
      "cell_type": "markdown",
      "id": "070956af",
      "metadata": {
        "id": "070956af"
      },
      "source": [
        "How many samples do we have of each type of wine?"
      ]
    },
    {
      "cell_type": "code",
      "execution_count": 27,
      "id": "b37a6fd9",
      "metadata": {
        "id": "b37a6fd9"
      },
      "outputs": [
        {
          "name": "stdout",
          "output_type": "stream",
          "text": [
            "Number of samples for each type of wine:\n",
            "1    59\n",
            "2    71\n",
            "3    48\n",
            "Name: Class, dtype: int64\n"
          ]
        }
      ],
      "source": [
        "# TO DO: ADD YOUR CODE HERE\n",
        "wine_counts = y.value_counts().sort_index()\n",
        "print(\"Number of samples for each type of wine:\")\n",
        "print(wine_counts)"
      ]
    },
    {
      "cell_type": "markdown",
      "id": "70e6c46f",
      "metadata": {
        "id": "70e6c46f"
      },
      "source": [
        "## **Step 3:** Implement Machine Learning Model\n",
        "\n",
        "1. Import `SVC` and `DecisionTreeClassifier` from sklearn\n",
        "2. Instantiate models as `SVC()` and `DecisionTreeClassifier(max_depth = 3)`\n",
        "3. Implement the machine learning model with `X` and `y`"
      ]
    },
    {
      "cell_type": "markdown",
      "id": "0870b0d2",
      "metadata": {
        "id": "0870b0d2"
      },
      "source": [
        "## **Step 4:** Validate Model\n",
        "\n",
        "Calculate the average training and validation accuracy using `cross_validate` for the two different models listed in Step 3. For this case, use `scoring='accuracy'`"
      ]
    },
    {
      "cell_type": "markdown",
      "id": "bb0bbd83",
      "metadata": {
        "id": "bb0bbd83"
      },
      "source": [
        "## **Step 5:** Visualize Results (4 marks)\n",
        "\n",
        "<font color='red'>\n",
        "There is no individual mark for Steps 3 and 4 and those grades are included within the four points.\n",
        "\n",
        "</font>\n",
        "\n",
        "### **Step 5.1:** Compare Models (2 out of total 4 marks)\n",
        "1. Create a pandas DataFrame `results` with columns: Training accuracy and Validation accuracy\n",
        "2. Add the data size, training and validation accuracy for each dataset to the `results` DataFrame\n",
        "3. Print `results`"
      ]
    },
    {
      "cell_type": "code",
      "execution_count": 28,
      "id": "be4b5c0a",
      "metadata": {
        "id": "be4b5c0a"
      },
      "outputs": [
        {
          "name": "stdout",
          "output_type": "stream",
          "text": [
            "                          SVC        DT\n",
            "Training accuracy    0.703743  1.000000\n",
            "Validation accuracy  0.663492  0.881905\n"
          ]
        }
      ],
      "source": [
        "# TO DO: ADD YOUR CODE HERE FOR STEPS 3-5\n",
        "# Note: for any random state parameters, you can use random_state = 0\n",
        "# HINT: USING A LOOP TO STORE THE DATA IN YOUR RESULTS DATAFRAME WILL BE MORE EFFICIENT\n",
        "from sklearn.svm import SVC\n",
        "from sklearn.tree import DecisionTreeClassifier\n",
        "\n",
        "# Step 3: Instantiate models\n",
        "svc = SVC()\n",
        "dt = DecisionTreeClassifier()\n",
        "\n",
        "models = {'SVC': svc, 'DT': dt}\n",
        "\n",
        "# Step 4: Validate models\n",
        "results = {}\n",
        "\n",
        "for name, model in models.items():\n",
        "    cv_results = cross_validate(model, X, y, scoring='accuracy', cv=5, return_train_score=True)\n",
        "    train_score = cv_results['train_score'].mean()\n",
        "    test_score = cv_results['test_score'].mean()\n",
        "    results[name] = {'Training accuracy': train_score, 'Validation accuracy': test_score}\n",
        "\n",
        "# Step 5: Print results\n",
        "results_df = pd.DataFrame(results)\n",
        "print(results_df)\n"
      ]
    },
    {
      "cell_type": "markdown",
      "id": "f2e17878",
      "metadata": {
        "id": "f2e17878"
      },
      "source": [
        "### **Step 5.2:** Visualize Classification Errors  (2 out of total 4 marks)\n",
        "Which method gave the highest accuracy? Use this method to print the confusion matrix and classification report:"
      ]
    },
    {
      "cell_type": "code",
      "execution_count": 29,
      "id": "44b091a4",
      "metadata": {
        "id": "44b091a4"
      },
      "outputs": [],
      "source": [
        "# TO DO: Implement best model\n",
        "# The best model is the Decision Tree Classifier\n",
        "# Train the model\n",
        "from sklearn.model_selection import train_test_split\n",
        "from sklearn.preprocessing import LabelEncoder\n",
        "\n",
        "# Split the dataset into training and testing sets\n",
        "X_train, X_test, y_train, y_test = train_test_split(X, y, random_state=0)\n",
        "\n",
        "# Encode the target vector\n",
        "le = LabelEncoder()\n",
        "y_train = le.fit_transform(y_train)\n",
        "y_test = le.transform(y_test)\n",
        "\n",
        "# Train the model\n",
        "dt.fit(X_train, y_train)\n",
        "\n",
        "# Predict the labels of the test set\n",
        "y_pred = dt.predict(X_test)\n"
      ]
    },
    {
      "cell_type": "code",
      "execution_count": 31,
      "id": "09d21b59",
      "metadata": {
        "id": "09d21b59"
      },
      "outputs": [
        {
          "data": {
            "image/png": "[encoded data removed]",
            "text/plain": [
              "<Figure size 800x600 with 2 Axes>"
            ]
          },
          "metadata": {},
          "output_type": "display_data"
        }
      ],
      "source": [
        "# TO DO: Print confusion matrix using a heatmap\n",
        "from sklearn.metrics import confusion_matrix\n",
        "\n",
        "cm = confusion_matrix(y_test, y_pred)\n",
        "\n",
        "# Plot the heatmap\n",
        "plt.figure(figsize=(8, 6))\n",
        "sns.heatmap(cm, annot=True, cmap='Blues', xticklabels=le.classes_, yticklabels=le.classes_)\n",
        "plt.xlabel('Predicted labels')\n",
        "plt.ylabel('True labels')\n",
        "plt.title('Confusion Matrix')\n",
        "plt.show()\n"
      ]
    },
    {
      "cell_type": "code",
      "execution_count": 38,
      "id": "5ef95947",
      "metadata": {
        "id": "5ef95947"
      },
      "outputs": [
        {
          "name": "stdout",
          "output_type": "stream",
          "text": [
            "[1 2 3]\n",
            "Classification Report:\n",
            "              precision    recall  f1-score   support\n",
            "\n",
            "           1       0.93      0.88      0.90        16\n",
            "           2       0.90      0.90      0.90        21\n",
            "           3       0.89      1.00      0.94         8\n",
            "\n",
            "    accuracy                           0.91        45\n",
            "   macro avg       0.91      0.93      0.92        45\n",
            "weighted avg       0.91      0.91      0.91        45\n",
            "\n"
          ]
        }
      ],
      "source": [
        "# TO DO: Print classification report\n",
        "from sklearn.metrics import classification_report\n",
        "\n",
        "# Get the class names as strings\n",
        "names = []\n",
        "for c in le.classes_:\n",
        "    names.append(str(c))\n",
        "\n",
        "# Generate the report\n",
        "report = classification_report(y_test, y_pred, target_names=names)\n",
        "\n",
        "# Print the report\n",
        "print(\"Classification Report:\")\n",
        "print(report)"
      ]
    },
    {
      "cell_type": "markdown",
      "id": "bf319621",
      "metadata": {
        "id": "bf319621"
      },
      "source": [
        "## Questions (6 marks)\n",
        "1. How do the training and validation accuracy change depending on the method used? Explain with values.\n",
        "1. What are two reasons why the support vector machines model did not work as well as the tree-based model?\n",
        "1. How many samples were incorrectly classified in step 5.2?\n",
        "1. In this case, is maximizing precision or recall more important? Why?"
      ]
    },
    {
      "cell_type": "markdown",
      "id": "1FQstcwnXXng",
      "metadata": {
        "id": "1FQstcwnXXng"
      },
      "source": [
        "\n",
        "<font color='Green'><b>YOUR ANSWERS HERE</b></font>"
      ]
    },
    {
      "cell_type": "markdown",
      "id": "664ff8ae",
      "metadata": {
        "id": "664ff8ae"
      },
      "source": [
        "## Process Description (4 marks)\n",
        "Please describe the process you used to create your code. Cite any websites or generative AI tools used. You can use the following questions as guidance:\n",
        "1. Where did you source your code?\n",
        "1. In what order did you complete the steps?\n",
        "1. If you used generative AI, what prompts did you use? Did you need to modify the code at all? Why or why not?\n",
        "1. Did you have any challenges? If yes, what were they? If not, what helped you to be successful?"
      ]
    },
    {
      "cell_type": "markdown",
      "id": "d0e837da",
      "metadata": {
        "id": "d0e837da"
      },
      "source": [
        "<font color='Green'><b>DESCRIBE YOUR PROCESS HERE</b></font>"
      ]
    },
    {
      "cell_type": "markdown",
      "id": "4cd7358d",
      "metadata": {
        "id": "4cd7358d"
      },
      "source": [
        "# **Part 3: Observations/Interpretation (3 marks)**\n",
        "\n",
        "Describe any pattern you see in the results. Relate your findings to what we discussed during lectures. Include data to justify your findings."
      ]
    },
    {
      "cell_type": "markdown",
      "id": "F3ifv218XL62",
      "metadata": {
        "id": "F3ifv218XL62"
      },
      "source": [
        "<font color='Green'><b>\n",
        "ADD YOUR FINDINGS HERE\n",
        "</b></font>"
      ]
    },
    {
      "cell_type": "markdown",
      "id": "cd97b6ac",
      "metadata": {
        "id": "cd97b6ac"
      },
      "source": [
        "## **Part 4:** Reflection (2 marks)\n",
        "Include a sentence or two about:\n",
        "- what you liked or disliked,\n",
        "- found interesting, confusing, challangeing, motivating\n",
        "while working on this assignment."
      ]
    },
    {
      "cell_type": "markdown",
      "id": "tDFYc89YXQGJ",
      "metadata": {
        "id": "tDFYc89YXQGJ"
      },
      "source": [
        "<font color='Green'><b>\n",
        "ADD YOUR THOUGHTS HERE\n",
        "</b></font>"
      ]
    },
    {
      "cell_type": "markdown",
      "id": "fa21e53b",
      "metadata": {
        "id": "fa21e53b"
      },
      "source": [
        "## **Part 5:** Bonus Question (3 marks)\n",
        "\n",
        "Repeat Part 2 and compare the support vector machines model used to `LinearSVC(max_iter=5000)`. Does using `LinearSVC` improve the results? Why or why not?\n",
        "\n",
        "Is `LinearSVC` a good fit for this dataset? Why or why not?"
      ]
    },
    {
      "cell_type": "code",
      "execution_count": 39,
      "id": "30fea72e",
      "metadata": {
        "id": "30fea72e"
      },
      "outputs": [
        {
          "data": {
            "image/png": "[encoded data removed]",
            "text/plain": [
              "<Figure size 800x600 with 2 Axes>"
            ]
          },
          "metadata": {},
          "output_type": "display_data"
        },
        {
          "name": "stdout",
          "output_type": "stream",
          "text": [
            "Classification Report:\n",
            "              precision    recall  f1-score   support\n",
            "\n",
            "           1       1.00      0.94      0.97        16\n",
            "           2       0.85      0.81      0.83        21\n",
            "           3       0.50      0.62      0.56         8\n",
            "\n",
            "    accuracy                           0.82        45\n",
            "   macro avg       0.78      0.79      0.78        45\n",
            "weighted avg       0.84      0.82      0.83        45\n",
            "\n"
          ]
        }
      ],
      "source": [
        "# TO DO: ADD YOUR CODE HERE\n",
        "# Split the dataset into training and testing sets\n",
        "X_train, X_test, y_train, y_test = train_test_split(X, y, random_state=0)\n",
        "\n",
        "# Encode the target vector\n",
        "le = LabelEncoder()\n",
        "y_train = le.fit_transform(y_train)\n",
        "y_test = le.transform(y_test)\n",
        "\n",
        "# Train the model\n",
        "svc.fit(X_train, y_train)\n",
        "\n",
        "# Predict the labels of the test set\n",
        "y_pred = svc.predict(X_test)\n",
        "\n",
        "# Plot the confusion matrix\n",
        "cm = confusion_matrix(y_test, y_pred)\n",
        "\n",
        "# Plot the heatmap\n",
        "plt.figure(figsize=(8, 6))\n",
        "sns.heatmap(cm, annot=True, cmap='Blues', xticklabels=le.classes_, yticklabels=le.classes_)\n",
        "plt.xlabel('Predicted labels')\n",
        "plt.ylabel('True labels')\n",
        "plt.title('Confusion Matrix')\n",
        "plt.show()\n",
        "\n",
        "# Get the class names as strings\n",
        "names = []\n",
        "for c in le.classes_:\n",
        "    names.append(str(c))\n",
        "\n",
        "# Generate the report\n",
        "report = classification_report(y_test, y_pred, target_names=names)\n",
        "\n",
        "# Print the report\n",
        "print(\"Classification Report:\")\n",
        "print(report)\n"
      ]
    },
    {
      "cell_type": "markdown",
      "id": "aabc68a4",
      "metadata": {
        "id": "aabc68a4"
      },
      "source": [
        "*ANSWER HERE*"
      ]
    },
    {
      "cell_type": "code",
      "execution_count": null,
      "id": "241c3b12",
      "metadata": {
        "id": "241c3b12"
      },
      "outputs": [],
      "source": []
    }
  ],
  "metadata": {
    "colab": {
      "provenance": []
    },
    "kernelspec": {
      "display_name": "Python 3 (ipykernel)",
      "language": "python",
      "name": "python3"
    },
    "language_info": {
      "codemirror_mode": {
        "name": "ipython",
        "version": 3
      },
      "file_extension": ".py",
      "mimetype": "text/x-python",
      "name": "python",
      "nbconvert_exporter": "python",
      "pygments_lexer": "ipython3",
      "version": "3.11.0"
    }
  },
  "nbformat": 4,
  "nbformat_minor": 5
}
